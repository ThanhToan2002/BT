{
  "nbformat": 4,
  "nbformat_minor": 0,
  "metadata": {
    "colab": {
      "private_outputs": true,
      "provenance": [],
      "authorship_tag": "ABX9TyMNiyZjVEDLnMgc0/C/TWHJ",
      "include_colab_link": true
    },
    "kernelspec": {
      "name": "python3",
      "display_name": "Python 3"
    },
    "language_info": {
      "name": "python"
    },
    "accelerator": "GPU",
    "gpuClass": "standard"
  },
  "cells": [
    {
      "cell_type": "markdown",
      "metadata": {
        "id": "view-in-github",
        "colab_type": "text"
      },
      "source": [
        "<a href=\"https://colab.research.google.com/github/ThanhToan2002/BT/blob/main/w9_quan_ao.ipynb\" target=\"_parent\"><img src=\"https://colab.research.google.com/assets/colab-badge.svg\" alt=\"Open In Colab\"/></a>"
      ]
    },
    {
      "cell_type": "code",
      "execution_count": null,
      "metadata": {
        "id": "ZSf0Ai1dZOP6"
      },
      "outputs": [],
      "source": [
        "\n",
        "from sklearn import datasets\n",
        "import pandas as pd\n",
        "from sklearn.model_selection import train_test_split\n",
        "from sklearn.metrics import accuracy_score\n",
        "from sklearn.preprocessing import StandardScaler\n",
        "from numpy.core.fromnumeric import shape\n",
        "from keras.datasets import fashion_mnist\n",
        "\n",
        "import matplotlib.pyplot as plt\n",
        "from keras.models import Sequential\n",
        "from keras.layers import MaxPooling2D\n",
        "from keras.layers import Conv2D\n",
        "from keras.layers import Flatten\n",
        "from keras.layers import Dense\n",
        "from keras.utils import to_categorical"
      ]
    },
    {
      "cell_type": "code",
      "source": [
        "\n",
        "(train_images, train_labels),(test_images, test_labels) = fashion_mnist.load_data()"
      ],
      "metadata": {
        "id": "dBco-zQbZSuz"
      },
      "execution_count": null,
      "outputs": []
    },
    {
      "cell_type": "code",
      "source": [
        "picture = train_images[7]\n",
        "plt.imshow(picture, cmap = plt.cm.binary)\n",
        "plt.show()\n",
        "print(\"Hình này là:\", train_labels[7])\n",
        "     "
      ],
      "metadata": {
        "id": "fc4WNkzAaKTT"
      },
      "execution_count": null,
      "outputs": []
    },
    {
      "cell_type": "code",
      "source": [
        "\n",
        "for i in range(20):\n",
        "  plt.subplot(4,5,i+1)\n",
        "  plt.tight_layout()\n",
        "  plt.imshow(train_images[i], cmap= 'gray', interpolation= 'none')\n",
        "  plt.title(\"So \" \":{}\".format(train_labels[i]))\n",
        "  plt.xticks([])\n",
        "  plt.yticks([])"
      ],
      "metadata": {
        "id": "s1FnABH-arje"
      },
      "execution_count": null,
      "outputs": []
    },
    {
      "cell_type": "code",
      "source": [
        "model = Sequential()\n",
        "\n",
        "model.add(Dense(512, activation= 'relu', input_shape= (28*28,))) \n",
        "model.add(Dense(512, activation= 'relu'))\n",
        "model.add(Dense(10, activation= 'softmax'))\n",
        "model.summary()"
      ],
      "metadata": {
        "id": "n6S5iDSQaxjW"
      },
      "execution_count": null,
      "outputs": []
    },
    {
      "cell_type": "code",
      "source": [
        "train_images = train_images.reshape((60000, 28*28))\n",
        "train_images = train_images.astype('float32')/255\n",
        "     \n",
        "\n",
        "test_images = test_images.reshape((10000, 28*28))\n",
        "test_images = test_images.astype('float32')/255\n",
        "     \n",
        "\n",
        "train_labels = to_categorical(train_labels, 10)\n",
        "test_labels = to_categorical(test_labels, 10)   "
      ],
      "metadata": {
        "id": "WD4FBviba4no"
      },
      "execution_count": null,
      "outputs": []
    },
    {
      "cell_type": "code",
      "source": [
        "model.compile(optimizer= 'rmsprop', loss= 'categorical_crossentropy', metrics= ['accuracy'])\n",
        "model.fit(train_images, train_labels,epochs=10, batch_size= 60)\n",
        "test_loss, test_acc = model.evaluate(test_images, test_labels)\n",
        "print(\"Accurency:\", test_acc)\n",
        "print('Loss:', test_loss)"
      ],
      "metadata": {
        "id": "cm19doKma75c"
      },
      "execution_count": null,
      "outputs": []
    },
    {
      "cell_type": "code",
      "source": [
        "model.save('fashion_mnist.h5')"
      ],
      "metadata": {
        "id": "Vq1WFk1LbcxT"
      },
      "execution_count": null,
      "outputs": []
    },
    {
      "cell_type": "code",
      "source": [
        "from matplotlib import pyplot as plt\n",
        "import matplotlib.image as mpimg\n",
        "from keras.utils import load_img\n",
        "from keras.utils import img_to_array\n",
        "from pylab import *\n",
        "import numpy as np\n",
        "from PIL import Image\n",
        "from keras.models import load_model\n",
        "from IPython.display import display\n",
        "\n",
        "#Load model\n",
        "model = load_model('fashion_mnist.h5')\n",
        "\n",
        "#Open image uploaded \n",
        "img = Image.open('/content/ao.jpg')\n",
        "\n",
        "#Display image uploaded\n",
        "display(img)\n",
        "\n",
        "#Convert to gray Image\n",
        "img = img.convert('L')\n",
        "\n",
        "#Resize to 28x28 image\n",
        "img = img.resize((28,28))\n",
        "\n",
        "#Show image\n",
        "plt.imshow(img, cmap= 'gray', interpolation= 'none')\n",
        "plt.show()\n",
        "\n",
        "#Convert image to numpy array\n",
        "img = np.array(img)\n",
        "\n",
        "#Reshape array to Vector(1, 28*28)\n",
        "img = img.reshape(1,28*28)\n",
        "\n",
        "#Rescale pixel value from (0, 255) to (0, 1)\n",
        "img = img.astype('float32')/255\n",
        "\n",
        "#Prediction and displaying the result on the screen\n",
        "predictions = model.predict(img)\n",
        "digit = np.argmax(predictions)\n",
        "print('Predicted digit:', digit)"
      ],
      "metadata": {
        "id": "TzHw-Fb6bjlr"
      },
      "execution_count": null,
      "outputs": []
    }
  ]
}