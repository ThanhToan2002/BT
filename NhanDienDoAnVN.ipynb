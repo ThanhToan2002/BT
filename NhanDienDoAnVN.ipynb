{
  "nbformat": 4,
  "nbformat_minor": 0,
  "metadata": {
    "colab": {
      "private_outputs": true,
      "provenance": [],
      "mount_file_id": "1HQwCKgYFB6YIutnVRjxFkNNjAAXnBTWE",
      "authorship_tag": "ABX9TyMfO4tTYeTHwn8WXUMW43dq",
      "include_colab_link": true
    },
    "kernelspec": {
      "name": "python3",
      "display_name": "Python 3"
    },
    "language_info": {
      "name": "python"
    },
    "accelerator": "GPU",
    "gpuClass": "standard"
  },
  "cells": [
    {
      "cell_type": "markdown",
      "metadata": {
        "id": "view-in-github",
        "colab_type": "text"
      },
      "source": [
        "<a href=\"https://colab.research.google.com/github/ThanhToan2002/BT/blob/main/NhanDienDoAnVN.ipynb\" target=\"_parent\"><img src=\"https://colab.research.google.com/assets/colab-badge.svg\" alt=\"Open In Colab\"/></a>"
      ]
    },
    {
      "cell_type": "code",
      "execution_count": null,
      "metadata": {
        "id": "2ctwQ5VLSF4X"
      },
      "outputs": [],
      "source": [
        "from google.colab import drive\n",
        "drive.mount('/content/drive/')"
      ]
    },
    {
      "cell_type": "code",
      "source": [
        "import matplotlib.pyplot as plt\n",
        "from keras.layers import LeakyReLU\n",
        "import numpy as np\n",
        "from keras.models import Sequential\n",
        "from keras.layers import Dense, Activation, Dropout, Conv2D, MaxPooling2D, Flatten\n",
        "from keras.utils import to_categorical\n",
        "from keras.models import load_model\n",
        "from keras.utils import load_img, img_to_array\n",
        "import os\n",
        "from keras.preprocessing.image import ImageDataGenerator"
      ],
      "metadata": {
        "id": "l9xjI_h3STlb"
      },
      "execution_count": null,
      "outputs": []
    },
    {
      "cell_type": "code",
      "source": [
        "train_data=ImageDataGenerator(rescale=1./255, shear_range=0.2, zoom_range=0.2, horizontal_flip=True)"
      ],
      "metadata": {
        "id": "KRFbpLlFSX0u"
      },
      "execution_count": null,
      "outputs": []
    },
    {
      "cell_type": "code",
      "source": [
        "training=train_data.flow_from_directory('/content/drive/MyDrive/DoanVN/Train',target_size=(150,150), batch_size=32, class_mode='categorical')"
      ],
      "metadata": {
        "id": "E0LWsrRzSd91"
      },
      "execution_count": null,
      "outputs": []
    },
    {
      "cell_type": "code",
      "source": [
        "training.class_indices"
      ],
      "metadata": {
        "id": "Gm-GD2YBSnkJ"
      },
      "execution_count": null,
      "outputs": []
    },
    {
      "cell_type": "code",
      "source": [
        "# Tạo ra mạng CNN để train mô hình\n",
        "model=Sequential()\n",
        "model.add(Conv2D(32,kernel_size=(3,3), activation='relu', input_shape=(150,150,3), padding='same')) \n",
        "model.add(LeakyReLU(alpha=0.1))\n",
        "model.add(MaxPooling2D(2,2))\n",
        "\n",
        "model.add(Conv2D(64,kernel_size=(3,3), activation='relu', padding='same'))\n",
        "model.add(LeakyReLU(alpha=0.1)) \n",
        "model.add(MaxPooling2D(2,2))\n",
        "\n",
        "model.add(Conv2D(128,kernel_size=(3,3), activation='relu', padding='same')) \n",
        "model.add(LeakyReLU(alpha=0.1))\n",
        "model.add(MaxPooling2D(2,2))\n",
        "\n",
        "#ANN\n",
        "model.add(Flatten())\n",
        "model.add(Dense(256,activation='relu'))\n",
        "model.add(LeakyReLU(alpha=0.1))\n",
        "model.add(Dense(5,activation='softmax'))\n",
        "\n",
        "#Compile\n",
        "model.compile(loss='categorical_crossentropy',optimizer='Adam',metrics=['accuracy'])\n",
        "model.summary()"
      ],
      "metadata": {
        "id": "17lkd0ujTgor"
      },
      "execution_count": null,
      "outputs": []
    },
    {
      "cell_type": "code",
      "source": [
        "train=model.fit(training,epochs=20,batch_size=128,verbose=1)"
      ],
      "metadata": {
        "id": "oj8ct6v2dcjG"
      },
      "execution_count": null,
      "outputs": []
    },
    {
      "cell_type": "code",
      "source": [
        "Score=model.evaluate(training,verbose=0)\n",
        "print('Train Loss', Score[0])\n",
        "print('Train Accuracy', Score[1])Score=model.evaluate(training,verbose=0)\n"
      ],
      "metadata": {
        "id": "z3xqawMHW82J"
      },
      "execution_count": null,
      "outputs": []
    },
    {
      "cell_type": "code",
      "source": [
        "model.save(\"nhandiendoan(cnn).ipynb\")"
      ],
      "metadata": {
        "id": "0Ui3hD-wXM2w"
      },
      "execution_count": null,
      "outputs": []
    },
    {
      "cell_type": "code",
      "source": [
        "model_1=load_model('nhandiendoan(cnn).ipynb')"
      ],
      "metadata": {
        "id": "Ruo-7U02Xdta"
      },
      "execution_count": null,
      "outputs": []
    },
    {
      "cell_type": "code",
      "source": [
        "from keras.models import load_model\n",
        "from keras.utils import load_img, img_to_array\n",
        "import os\n",
        "import numpy as np \n",
        "import matplotlib.pyplot as plt "
      ],
      "metadata": {
        "id": "zDeja_VnXjQh"
      },
      "execution_count": null,
      "outputs": []
    },
    {
      "cell_type": "code",
      "source": [
        "test='/content/drive/MyDrive/DoanVN/Test'\n",
        "for i in os.listdir(test):\n",
        "  img=load_img(test+'/'+i,target_size=(150,150))\n",
        "  plt.imshow(img)\n",
        "  img=img_to_array(img) \n",
        "  img=img.astype('float32') \n",
        "  img=img/255 \n",
        "  img=np.expand_dims(img,axis=0)\n",
        "  result=(model_1.predict(img).argmax()) \n",
        "  class_name=['Banh xeo','Bun dau mam tom','Ca kho to','Com tam','Pho']\n",
        "  print(class_name[result]) \n",
        "  plt.show()"
      ],
      "metadata": {
        "id": "0Q4jF5iVXm76"
      },
      "execution_count": null,
      "outputs": []
    }
  ]
}